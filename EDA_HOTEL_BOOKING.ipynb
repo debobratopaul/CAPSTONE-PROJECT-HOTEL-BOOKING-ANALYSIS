{
  "nbformat": 4,
  "nbformat_minor": 0,
  "metadata": {
    "colab": {
      "provenance": [],
      "collapsed_sections": [
        "gIfDvo9L0UH2"
      ],
      "include_colab_link": true
    },
    "kernelspec": {
      "name": "python3",
      "display_name": "Python 3"
    },
    "language_info": {
      "name": "python"
    }
  },
  "cells": [
    {
      "cell_type": "markdown",
      "metadata": {
        "id": "view-in-github",
        "colab_type": "text"
      },
      "source": [
        "<a href=\"https://colab.research.google.com/github/debobratopaul/CAPSTONE-PROJECT-HOTEL-BOOKING-ANALYSIS/blob/main/EDA_HOTEL_BOOKING.ipynb\" target=\"_parent\"><img src=\"https://colab.research.google.com/assets/colab-badge.svg\" alt=\"Open In Colab\"/></a>"
      ]
    },
    {
      "cell_type": "markdown",
      "source": [
        "# **Project Name**    -Hotel Booking Analysis\n",
        "\n"
      ],
      "metadata": {
        "id": "vncDsAP0Gaoa"
      }
    },
    {
      "cell_type": "markdown",
      "source": [
        "##### **Project Type**    - EDA\n",
        "##### **Contribution**    - Individual\n"
      ],
      "metadata": {
        "id": "beRrZCGUAJYm"
      }
    },
    {
      "cell_type": "markdown",
      "source": [
        "# **Project Summary -**"
      ],
      "metadata": {
        "id": "FJNUwmbgGyua"
      }
    },
    {
      "cell_type": "markdown",
      "source": [
        "The hotel booking analysis project aimed to extract meaningful insights from a comprehensive dataset to optimize revenue generation and improve customer satisfaction in the hotel industry. By employing exploratory data analysis, visualizations, and statistical techniques, the project explored various aspects of hotel bookings, including seasonal patterns, cancellation behavior, market segments, pricing strategies, distribution channels, and customer preferences. The findings provided valuable insights for strategic decision-making to drive positive business outcomes.\n",
        "\n",
        "One key observation from the analysis was the existence of clear seasonal patterns in hotel bookings, with peak periods occurring during the summer months and holiday seasons. This insight enables hotels to anticipate and prepare for high demand periods, ensuring optimal staffing, inventory management, and pricing strategies. By efficiently allocating resources, hotels can enhance operational efficiency and maximize revenue potential.\n",
        "\n",
        "\n",
        "Market segmentation analysis played a crucial role in understanding the preferences and behaviors of different customer groups. Online Travel Agents (OTAs) and the Groups segment were identified as significant contributors to hotel bookings. By tailoring pricing strategies and marketing campaigns to these segments, hotels can effectively target their offerings, maximize customer acquisition, and increase revenue.\n",
        "\n",
        "Pricing analysis across market segments and hotel types unveiled variations in the average daily rate (ADR). This information allows hotels to optimize their pricing strategies, identify competitive advantages, and capture the right market share. By understanding the market dynamics, hotels can align their pricing with customer expectations and market demand, resulting in improved revenue generation.\n",
        "\n",
        "Distribution channel analysis provided insights into the preferred booking channels of guests. Online channels, especially OTAs and direct hotel websites, emerged as dominant distribution channels. This knowledge empowers hotels to optimize their channel management strategies, negotiate favorable partnerships with OTAs, and invest in their direct booking platforms to improve profitability.\n",
        "\n",
        "Customer satisfaction and loyalty were explored through the analysis of booking changes and special requests. Understanding common booking modifications and customer preferences enables hotels to enhance their service offerings, improve the guest experience, and foster loyalty. By tailoring services to meet customer expectations, hotels can achieve higher guest satisfaction levels and drive repeat business.\n",
        "\n",
        "The project also shed light on the geographical origin of guests, providing valuable market insights. Identifying key source markets enables hotels to customize marketing campaigns, target specific regions with high booking volumes, and optimize their promotional efforts. By effectively allocating marketing resources and focusing on high-potential markets, hotels can expand their customer base and increase market share.\n",
        "\n",
        "The findings highlighted the importance of understanding seasonal patterns, managing cancellations, segmenting the market, implementing dynamic pricing strategies, optimizing distribution channels, and personalizing guest experiences. By leveraging these insights, hotels can make informed decisions, drive positive business impacts, and establish a competitive edge in the dynamic hotel industry. Ultimately, the project demonstrated the significance of data analysis and strategic decision-making in achieving long-term success in the hotel sector."
      ],
      "metadata": {
        "id": "F6v_1wHtG2nS"
      }
    },
    {
      "cell_type": "markdown",
      "source": [
        "# **GitHub Link -**"
      ],
      "metadata": {
        "id": "w6K7xa23Elo4"
      }
    },
    {
      "cell_type": "markdown",
      "source": [
        "https://github.com/debobratopaul"
      ],
      "metadata": {
        "id": "h1o69JH3Eqqn"
      }
    },
    {
      "cell_type": "markdown",
      "source": [
        "# **Problem Statement**\n"
      ],
      "metadata": {
        "id": "yQaldy8SH6Dl"
      }
    },
    {
      "cell_type": "markdown",
      "source": [
        "**BUSINESS PROBLEM OVERVIEW**\n",
        "\n",
        "Have you ever wondered when the best time of year to book a hotel room is? Or the optimal length of stay in order to get the best daily rate? This hotel booking dataset can help you explore those questions!\n",
        "This data set contains booking information for a city hotel and a resort hotel, and includes information such as when the booking was made, length of stay, the number of adults, children, and/or babies, and the number of available parking spaces, among other things. All personally identifying information has been removed from the data.\n"
      ],
      "metadata": {
        "id": "DpeJGUA3kjGy"
      }
    },
    {
      "cell_type": "markdown",
      "source": [
        "#### **Define Your Business Objective?**"
      ],
      "metadata": {
        "id": "PH-0ReGfmX4f"
      }
    },
    {
      "cell_type": "markdown",
      "source": [
        "Identify important factors that influence bookings in order to optimize revenue and customer satisfaction.To forecast hotel booking demand for different periods of the year, allowing the hotel to adjust pricing, inventory, and staffing accordingly."
      ],
      "metadata": {
        "id": "PhDvGCAqmjP1"
      }
    },
    {
      "cell_type": "markdown",
      "source": [
        "# **General Guidelines** : -  "
      ],
      "metadata": {
        "id": "mDgbUHAGgjLW"
      }
    },
    {
      "cell_type": "markdown",
      "source": [
        "1.   Well-structured, formatted, and commented code is required.\n",
        "2.   Exception Handling, Production Grade Code & Deployment Ready Code will be a plus. Those students will be awarded some additional credits.\n",
        "     \n",
        "     The additional credits will have advantages over other students during Star Student selection.\n",
        "       \n",
        "             [ Note: - Deployment Ready Code is defined as, the whole .ipynb notebook should be executable in one go\n",
        "                       without a single error logged. ]\n",
        "\n",
        "3.   Each and every logic should have proper comments.\n",
        "4. You may add as many number of charts you want. Make Sure for each and every chart the following format should be answered.\n",
        "        \n",
        "\n",
        "```\n",
        "# Chart visualization code\n",
        "```\n",
        "            \n",
        "\n",
        "*   Why did you pick the specific chart?\n",
        "*   What is/are the insight(s) found from the chart?\n",
        "* Will the gained insights help creating a positive business impact?\n",
        "Are there any insights that lead to negative growth? Justify with specific reason.\n",
        "\n",
        "5. You have to create at least 20 logical & meaningful charts having important insights.\n",
        "\n",
        "\n",
        "[ Hints : - Do the Vizualization in  a structured way while following \"UBM\" Rule.\n",
        "\n",
        "U - Univariate Analysis,\n",
        "\n",
        "B - Bivariate Analysis (Numerical - Categorical, Numerical - Numerical, Categorical - Categorical)\n",
        "\n",
        "M - Multivariate Analysis\n",
        " ]\n",
        "\n",
        "\n",
        "\n"
      ],
      "metadata": {
        "id": "ZrxVaUj-hHfC"
      }
    },
    {
      "cell_type": "markdown",
      "source": [
        "# ***Let's Begin !***"
      ],
      "metadata": {
        "id": "O_i_v8NEhb9l"
      }
    },
    {
      "cell_type": "markdown",
      "source": [
        "## ***1. Know Your Data***"
      ],
      "metadata": {
        "id": "HhfV-JJviCcP"
      }
    },
    {
      "cell_type": "markdown",
      "source": [
        "### Import Libraries"
      ],
      "metadata": {
        "id": "Y3lxredqlCYt"
      }
    },
    {
      "cell_type": "code",
      "source": [
        "# Import Libraries\n",
        "import numpy as np\n",
        "import pandas as pd\n",
        "import matplotlib\n",
        "import matplotlib.pyplot as plt\n",
        "import seaborn as sns\n",
        "import folium\n",
        "import plotly.express as px\n",
        "%matplotlib inline"
      ],
      "metadata": {
        "id": "M8Vqi-pPk-HR"
      },
      "execution_count": 1,
      "outputs": []
    },
    {
      "cell_type": "markdown",
      "source": [
        "### Dataset Loading"
      ],
      "metadata": {
        "id": "3RnN4peoiCZX"
      }
    },
    {
      "cell_type": "code",
      "source": [
        "# Load Dataset"
      ],
      "metadata": {
        "id": "4CkvbW_SlZ_R"
      },
      "execution_count": null,
      "outputs": []
    },
    {
      "cell_type": "code",
      "source": [
        "from google.colab import drive\n",
        "drive.mount('/content/drive')\n",
        "hotel_df=pd.read_csv(\"/content/drive/MyDrive/Hotel Bookings.csv\")\n"
      ],
      "metadata": {
        "id": "fiqKVEdV1qAF",
        "colab": {
          "base_uri": "https://localhost:8080/"
        },
        "outputId": "7f394f99-cd9c-4055-ee65-9471c0e3637f"
      },
      "execution_count": 2,
      "outputs": [
        {
          "output_type": "stream",
          "name": "stdout",
          "text": [
            "Mounted at /content/drive\n"
          ]
        }
      ]
    },
    {
      "cell_type": "markdown",
      "source": [
        "### Dataset First View"
      ],
      "metadata": {
        "id": "x71ZqKXriCWQ"
      }
    },
    {
      "cell_type": "code",
      "source": [
        "# Dataset First Look\n",
        "hotel_df.head()"
      ],
      "metadata": {
        "id": "LWNFOSvLl09H"
      },
      "execution_count": null,
      "outputs": []
    },
    {
      "cell_type": "markdown",
      "source": [
        "### Dataset Rows & Columns count"
      ],
      "metadata": {
        "id": "7hBIi_osiCS2"
      }
    },
    {
      "cell_type": "code",
      "source": [
        "# Dataset Rows & Columns count\n",
        "hotel_df.shape\n"
      ],
      "metadata": {
        "id": "Kllu7SJgmLij"
      },
      "execution_count": null,
      "outputs": []
    },
    {
      "cell_type": "markdown",
      "source": [
        "We see that there are 119390 rows and 32 columns in the dataset"
      ],
      "metadata": {
        "id": "4vTwRMKv5NcQ"
      }
    },
    {
      "cell_type": "markdown",
      "source": [
        "### Dataset Information"
      ],
      "metadata": {
        "id": "JlHwYmJAmNHm"
      }
    },
    {
      "cell_type": "code",
      "source": [
        "# Dataset Info\n",
        "hotel_df.info()"
      ],
      "metadata": {
        "id": "e9hRXRi6meOf"
      },
      "execution_count": null,
      "outputs": []
    },
    {
      "cell_type": "markdown",
      "source": [
        "#### Missing Values/Null Values"
      ],
      "metadata": {
        "id": "PoPl-ycgm1ru"
      }
    },
    {
      "cell_type": "code",
      "source": [
        "# Visualizing the missing values\n",
        "missing_percentages = hotel_df.isnull().mean() * 100\n",
        "\n",
        "# Sorting columns by the percentage of missing values in descending order\n",
        "missing_percentages = missing_percentages.sort_values(ascending=False)\n",
        "\n",
        "# Bar plot to visualize missing values\n",
        "plt.figure(figsize=(10, 6))\n",
        "sns.barplot(x=missing_percentages.index, y=missing_percentages)\n",
        "plt.xticks(rotation=90)\n",
        "plt.ylabel('Percentage of Missing Values')\n",
        "plt.xlabel('Columns')\n",
        "plt.title('Missing Values in Hotel Booking Dataset')\n",
        "plt.show()"
      ],
      "metadata": {
        "id": "3q5wnI3om9sJ"
      },
      "execution_count": null,
      "outputs": []
    },
    {
      "cell_type": "markdown",
      "source": [
        "### What did you know about your dataset?\n",
        "This data set contains booking information for a city hotel and a resort hotel,We see that there are 119390 rows and 32 columns in the dataset.there are 31994 duplicates values are there in the data set and the columns like children company,country and agents have the null value.company column has almost 90 percent of null values and so it will be better to drop the column for further analysis.The main goal is to  Analyze historical booking data to determine the optimal pricing strategy for different room types, seasons, and lengths of stay. Identify pricing patterns and opportunities to maximize revenue and occupancy rates."
      ],
      "metadata": {
        "id": "H0kj-8xxnORC"
      }
    },
    {
      "cell_type": "markdown",
      "source": [
        "## ***2. Understanding Your Variables***"
      ],
      "metadata": {
        "id": "nA9Y7ga8ng1Z"
      }
    },
    {
      "cell_type": "code",
      "source": [
        "# Dataset Columns\n",
        "hotel_df.columns"
      ],
      "metadata": {
        "id": "j7xfkqrt5Ag5"
      },
      "execution_count": null,
      "outputs": []
    },
    {
      "cell_type": "code",
      "source": [
        "# Dataset Describe\n",
        "hotel_df.describe()\n"
      ],
      "metadata": {
        "id": "DnOaZdaE5Q5t"
      },
      "execution_count": null,
      "outputs": []
    },
    {
      "cell_type": "markdown",
      "source": [
        "### Variables Description"
      ],
      "metadata": {
        "id": "PBTbrJXOngz2"
      }
    },
    {
      "cell_type": "markdown",
      "source": [
        "**Hotel**:Types of hotel(Resort Hotel,City Hotel)\n",
        "\n",
        "**is_cancelled**:(True=1, False=0)\n",
        "\n",
        "**lead_time**:Number of days that elapsed between the entering date of the booking into the PMS and the arrival date\n",
        "\n",
        "**arrival_date_year**:Year of arrival\n",
        "\n",
        "**arrival_date_month**:Month of arrival\n",
        "\n",
        "**arrival_date_week_number**:week number of the arrival date\n",
        "\n",
        "**arrival_date_day**:Day of arrival date\n",
        "\n",
        "**stays_in_weekend_nights**:Number of weekend nights(saturday or sunday) the guest stayed or booked to stay at the hotel\n",
        "\n",
        "**stays_in_week_nights**::Number of week nights(monday to friday) the guest\n",
        "                        stayed or booked to stay at the hotel\n",
        "\n",
        "**adults**:Number of adults\n",
        "\n",
        "**children**:Number of children\n",
        "\n",
        "**babies**:Number of babies\n",
        "\n",
        "**meal**:Kind of meal opted for\n",
        "\n",
        "**country**:Country code\n",
        "\n",
        "**market_segment**:Which segment the customer belongs to\n",
        "\n",
        "**Distribution_channel**:How the customer accessed the stay-corporate booking/  direct/TA.TO\n",
        "\n",
        "**is_repeated_guest**:Guest coming for first time or not\n",
        "\n",
        "**previous_cancellation**:Was there a cancellation before\n",
        "\n",
        "**previous_bookings**:Count of previous bookings\n",
        "\n",
        "**reserved_room_type**:Type of room reserved\n",
        "\n",
        "**assigned_room_type**:Type of room assigned\n",
        "\n",
        "**booking_changes**:Count of changes made to booking\n",
        "\n",
        "**deposit_type**:Deposit type\n",
        "\n",
        "**agent**:Booked through agent\n",
        "\n",
        "**days_in_waiting_list**:Number of days in waiting list\n",
        "\n",
        "**customer_type**:Type of customer\n",
        "\n",
        "**required_car_parking**:If car parking is required\n",
        "\n",
        "**total_of_special_req**:Number of additional special requirements\n",
        "\n",
        "**reservation_status**:Reservation status\n",
        "\n",
        "**reservation_status_date**:Date of specific status\n"
      ],
      "metadata": {
        "id": "aJV4KIxSnxay"
      }
    },
    {
      "cell_type": "markdown",
      "source": [
        "### Check Unique Values for each variable."
      ],
      "metadata": {
        "id": "u3PMJOP6ngxN"
      }
    },
    {
      "cell_type": "code",
      "source": [
        "hotel_df['hotel'].unique()"
      ],
      "metadata": {
        "id": "zms12Yq5n-jE"
      },
      "execution_count": null,
      "outputs": []
    },
    {
      "cell_type": "code",
      "source": [
        "hotel_df['is_canceled'].unique()"
      ],
      "metadata": {
        "id": "oO-tKQHn_en1"
      },
      "execution_count": null,
      "outputs": []
    },
    {
      "cell_type": "code",
      "source": [
        "hotel_df['arrival_date_year'].unique()"
      ],
      "metadata": {
        "id": "1AcgqAqH_fcZ"
      },
      "execution_count": null,
      "outputs": []
    },
    {
      "cell_type": "code",
      "source": [
        "hotel_df['meal'].unique()\n"
      ],
      "metadata": {
        "id": "ZvzDdVgu_gAr"
      },
      "execution_count": null,
      "outputs": []
    },
    {
      "cell_type": "code",
      "source": [
        "hotel_df['market_segment'].unique()"
      ],
      "metadata": {
        "id": "86raQS03_gUQ"
      },
      "execution_count": null,
      "outputs": []
    },
    {
      "cell_type": "code",
      "source": [
        "hotel_df['distribution_channel'].unique()"
      ],
      "metadata": {
        "id": "afKvOnor_gn7"
      },
      "execution_count": null,
      "outputs": []
    },
    {
      "cell_type": "code",
      "source": [
        "hotel_df['children'].unique()"
      ],
      "metadata": {
        "id": "gTaO0qCU_hEu"
      },
      "execution_count": null,
      "outputs": []
    },
    {
      "cell_type": "code",
      "source": [
        "hotel_df['distribution_channel'].unique()"
      ],
      "metadata": {
        "id": "5sto58ZDAbSK"
      },
      "execution_count": null,
      "outputs": []
    },
    {
      "cell_type": "code",
      "source": [
        "hotel_df['is_repeated_guest'].unique()"
      ],
      "metadata": {
        "id": "CMjvFYHLAb-g"
      },
      "execution_count": null,
      "outputs": []
    },
    {
      "cell_type": "code",
      "source": [
        "hotel_df['reserved_room_type'].unique()"
      ],
      "metadata": {
        "id": "383KH-OyAcWK"
      },
      "execution_count": null,
      "outputs": []
    },
    {
      "cell_type": "code",
      "source": [
        "hotel_df['deposit_type'].unique()"
      ],
      "metadata": {
        "id": "qMGki_J4AdFm"
      },
      "execution_count": null,
      "outputs": []
    },
    {
      "cell_type": "code",
      "source": [
        "hotel_df['reservation_status'].unique()"
      ],
      "metadata": {
        "id": "DUPJ4vjxAdrk"
      },
      "execution_count": null,
      "outputs": []
    },
    {
      "cell_type": "code",
      "source": [
        "hotel_df['customer_type'].unique()"
      ],
      "metadata": {
        "id": "-9Rx7hnwAftI"
      },
      "execution_count": null,
      "outputs": []
    },
    {
      "cell_type": "code",
      "source": [
        "hotel_df['agent'].unique()"
      ],
      "metadata": {
        "id": "My85qt5nAgHh"
      },
      "execution_count": null,
      "outputs": []
    },
    {
      "cell_type": "markdown",
      "source": [
        "## 3. ***Data Wrangling***"
      ],
      "metadata": {
        "id": "dauF4eBmngu3"
      }
    },
    {
      "cell_type": "markdown",
      "source": [
        "### Data Wrangling Code"
      ],
      "metadata": {
        "id": "bKJF3rekwFvQ"
      }
    },
    {
      "cell_type": "code",
      "source": [
        "# Write your code to make your dataset analysis ready.\n",
        "\n",
        "# FIRST OF ALL WE WILL CREATE A COPY OF THE ORIGINAL DATAFRAME TO PERFORM THE ANALYSIS\n",
        "# Creating a copy of dataframe\n",
        "\n",
        "df = hotel_df.copy()\n"
      ],
      "metadata": {
        "id": "wk-9a2fpoLcV"
      },
      "execution_count": null,
      "outputs": []
    },
    {
      "cell_type": "markdown",
      "source": [
        "**Cleaning data**\n",
        "\n",
        "Cleaning data is crucial step before EDA as it will remove the ambigous data that can affect the outcome of EDA."
      ],
      "metadata": {
        "id": "8M99VOgHTn6u"
      }
    },
    {
      "cell_type": "markdown",
      "source": [
        "**Step 1: Removing duplicate rows if any**"
      ],
      "metadata": {
        "id": "InJvMYeITzCk"
      }
    },
    {
      "cell_type": "code",
      "source": [
        " # Show no. of rows of duplicate rows and columns\n",
        "df[df.duplicated()].shape"
      ],
      "metadata": {
        "id": "tqfhmzvLT0Xc"
      },
      "execution_count": null,
      "outputs": []
    },
    {
      "cell_type": "code",
      "source": [
        "# Dropping duplicate values\n",
        "df.drop_duplicates(inplace = True)\n",
        "df.shape"
      ],
      "metadata": {
        "id": "lYDuLPBsT4e8"
      },
      "execution_count": null,
      "outputs": []
    },
    {
      "cell_type": "markdown",
      "source": [
        "**Step2: Handling missing values.**"
      ],
      "metadata": {
        "id": "5GTrsAmoT_RV"
      }
    },
    {
      "cell_type": "markdown",
      "source": [],
      "metadata": {
        "id": "jDlqfGZbd5dp"
      }
    },
    {
      "cell_type": "code",
      "source": [
        "df[['company','agent']] = df[['company','agent']].fillna(0)"
      ],
      "metadata": {
        "id": "P40XCbQJUO4W"
      },
      "execution_count": null,
      "outputs": []
    },
    {
      "cell_type": "markdown",
      "source": [
        "This column 'children' has 0 as value which means 0 children were present in group of customers who made that transaction. So, 'nan' values are the missing values due to error of recording data.\n",
        "\n",
        "We will replace the null values under this column with mean value of children."
      ],
      "metadata": {
        "id": "R5nxIDzXUZfn"
      }
    },
    {
      "cell_type": "code",
      "source": [
        "df['children'].fillna(df['children'].mean(), inplace = True)"
      ],
      "metadata": {
        "id": "vlPzKmasUd0W"
      },
      "execution_count": null,
      "outputs": []
    },
    {
      "cell_type": "markdown",
      "source": [
        "Next column with missing value is 'country'. This column represents the country of oriigin of customer. Since, this column has datatype of string. We will replace the missing value with 'others'"
      ],
      "metadata": {
        "id": "8eMn8Md0Ue2k"
      }
    },
    {
      "cell_type": "code",
      "source": [
        "df['country'].fillna('others', inplace = True)"
      ],
      "metadata": {
        "id": "eovHuByuUjek"
      },
      "execution_count": null,
      "outputs": []
    },
    {
      "cell_type": "markdown",
      "source": [
        "There are some rows with total number of adults, children or babies equal to zero. So we will remove such rows."
      ],
      "metadata": {
        "id": "cMXKuqtvUm49"
      }
    },
    {
      "cell_type": "code",
      "source": [
        "df[df['adults']+df['babies']+df['children'] == 0].shape"
      ],
      "metadata": {
        "id": "ZqSzElIkUsXW"
      },
      "execution_count": null,
      "outputs": []
    },
    {
      "cell_type": "code",
      "source": [
        "df.drop(df[df['adults']+df['babies']+df['children'] == 0].index, inplace = True)"
      ],
      "metadata": {
        "id": "JuHZqFWFUw0s"
      },
      "execution_count": null,
      "outputs": []
    },
    {
      "cell_type": "code",
      "source": [
        "df=df.drop(\"company\",axis=1)"
      ],
      "metadata": {
        "id": "zpg1Bz9pUxme"
      },
      "execution_count": null,
      "outputs": []
    },
    {
      "cell_type": "markdown",
      "source": [
        "Scence the company column has more than 80 percent null value."
      ],
      "metadata": {
        "id": "A3VSRhxuU2Sm"
      }
    },
    {
      "cell_type": "markdown",
      "source": [
        "**Step 3: Converting columns to appropriate datatypes.**"
      ],
      "metadata": {
        "id": "GpBlR2NsU6bo"
      }
    },
    {
      "cell_type": "code",
      "source": [
        "df[['children', 'agent']] = df[['children', 'agent']].astype('int64')"
      ],
      "metadata": {
        "id": "3mbWPsFjVAWs"
      },
      "execution_count": null,
      "outputs": []
    },
    {
      "cell_type": "markdown",
      "source": [
        "**Step 4: Adding important columns.**"
      ],
      "metadata": {
        "id": "RGhKcmTuVEKp"
      }
    },
    {
      "cell_type": "code",
      "source": [
        "# Adding total staying days in hotels\n",
        "df['total_stay'] = df['stays_in_weekend_nights']+df['stays_in_week_nights']\n",
        "\n",
        "# Adding total people num as column, i.e. total people num = num of adults + children + babies\n",
        "df['total_people'] = df['adults']+df['children']+df['babies']"
      ],
      "metadata": {
        "id": "KLdDeh81VJrw"
      },
      "execution_count": null,
      "outputs": []
    },
    {
      "cell_type": "markdown",
      "source": [
        "**Analysis**"
      ],
      "metadata": {
        "id": "x-GQSz0sVOI8"
      }
    },
    {
      "cell_type": "code",
      "source": [
        "# Count the number of bookings for each hotel type\n",
        "hotel_type_bookings = df['hotel'].value_counts()\n",
        "\n",
        "# Group the data by month and count the number of bookings\n",
        "monthly_bookings = df.groupby('arrival_date_month').size()\n",
        "\n",
        "# Find the month with the highest number of bookings\n",
        "highest_month = monthly_bookings.idxmax()\n",
        "\n",
        "# Calculate the average lead time for bookings\n",
        "avg_lead_time = df['lead_time'].mean()\n",
        "\n",
        "# Calculate the average length of stay for bookings\n",
        "avg_length_of_stay = df['total_stay'].mean()\n",
        "\n",
        "# Calculate the average number of booking changes\n",
        "average_booking_changes = df['booking_changes'].mean()\n",
        "\n",
        "# Calculate the average daily rate (ADR)\n",
        "average_adr = df['adr'].mean()\n",
        "\n",
        "# Print the results\n",
        "print(\"Each hotel type booking-\",hotel_type_bookings)\n",
        "print(\"The month with the highest number of bookings is:\", highest_month)\n",
        "print(\"Average lead time for bookings:\", avg_lead_time)\n",
        "print(\"Average length of stay for bookings:\", avg_length_of_stay)\n",
        "print(\"Average number of booking changes:\", average_booking_changes)\n",
        "print(\"Average Daily Rate (ADR):\", average_adr)\n"
      ],
      "metadata": {
        "id": "f2y-rUH-VVQA"
      },
      "execution_count": null,
      "outputs": []
    },
    {
      "cell_type": "markdown",
      "source": [
        "To find the overall cancellation rate"
      ],
      "metadata": {
        "id": "rGiwjYnaViBy"
      }
    },
    {
      "cell_type": "code",
      "source": [
        "# Calculate the total number of bookings\n",
        "total_bookings = df.shape[0]\n",
        "\n",
        "# Calculate the number of canceled bookings\n",
        "canceled_bookings = df['is_canceled'].sum()\n",
        "\n",
        "# Calculate the cancellation rate\n",
        "cancellation_rate = canceled_bookings / total_bookings\n",
        "# Display the cancellation rate\n",
        "print(\"Total bookings cancelled:\",canceled_bookings)\n",
        "print(\"Overall Cancellation Rate: {:.2%}\".format(cancellation_rate))"
      ],
      "metadata": {
        "id": "ty80PB2eVrQp"
      },
      "execution_count": null,
      "outputs": []
    },
    {
      "cell_type": "markdown",
      "source": [
        "Total bookings in each year for weekends and week days\n"
      ],
      "metadata": {
        "id": "HxfDFSzQVukk"
      }
    },
    {
      "cell_type": "code",
      "source": [
        "# Convert the arrival_date_year column to datetime\n",
        "df['arrival_date_year'] = pd.to_datetime(df['arrival_date_year'], format='%Y')\n",
        "\n",
        "# Extract the year from the datetime\n",
        "df['arrival_year'] = df['arrival_date_year'].dt.year\n",
        "\n",
        "# Create a new column for weekends (stays_in_weekend_nights > 0)\n",
        "df['weekend_booking'] = df['stays_in_weekend_nights'].apply(lambda x: True if x > 0 else False)\n",
        "\n",
        "# Create a new column for weekdays (stays_in_week_nights > 0)\n",
        "df['weekday_booking'] = df['stays_in_week_nights'].apply(lambda x: True if x > 0 else False)\n",
        "\n",
        "# Group the data by arrival year and calculate the total bookings for weekends and weekdays\n",
        "\n",
        "booking_counts = df.groupby('arrival_year')[['weekend_booking', 'weekday_booking']].sum()\n",
        "booking_counts"
      ],
      "metadata": {
        "id": "xYoOuoWXVw0d"
      },
      "execution_count": null,
      "outputs": []
    },
    {
      "cell_type": "markdown",
      "source": [
        "Average length of stay for hotel guests?"
      ],
      "metadata": {
        "id": "T2VLT_rYV4nG"
      }
    },
    {
      "cell_type": "code",
      "source": [
        "# Calculate the total length of stay for each booking\n",
        "df['total_stays'] = df['stays_in_weekend_nights'] + df['stays_in_week_nights']\n",
        "\n",
        "# Calculate the average length of stay\n",
        "average_length_of_stay = df['total_stays'].mean()\n",
        "\n",
        "# Print the average length of stay\n",
        "print(\"Average length of stay:\", average_length_of_stay)"
      ],
      "metadata": {
        "id": "24nNMp7mV7h3"
      },
      "execution_count": null,
      "outputs": []
    },
    {
      "cell_type": "markdown",
      "source": [
        "common room type reserved by guests and the most common room type assigned\n"
      ],
      "metadata": {
        "id": "LksH8Fq5WA7l"
      }
    },
    {
      "cell_type": "code",
      "source": [
        "# Most common room type reserved by guests\n",
        "most_common_reserved = df['reserved_room_type'].value_counts().idxmax()\n",
        "\n",
        "# Most common room type assigned\n",
        "most_common_assigned = df['assigned_room_type'].value_counts().idxmax()\n",
        "\n",
        "print(\"Most common room type reserved by guests:\", most_common_reserved)\n",
        "print(\"Most common room type assigned:\", most_common_assigned)"
      ],
      "metadata": {
        "id": "I0XsA2F3WFlz"
      },
      "execution_count": null,
      "outputs": []
    },
    {
      "cell_type": "markdown",
      "source": [
        "Bookings made by repeated guests, and their booking preferences"
      ],
      "metadata": {
        "id": "qyCb3LuHWGmX"
      }
    },
    {
      "cell_type": "code",
      "source": [
        "# Filter the dataframe for repeated guests\n",
        "repeated_guests = df[df['is_repeated_guest'] == 1]\n",
        "\n",
        "# Count the number of bookings made by repeated guests\n",
        "num_bookings_repeated_guests = len(repeated_guests)\n",
        "\n",
        "# Analyze the booking preferences of repeated guests\n",
        "booking_preferences_repeated_guests = repeated_guests['reserved_room_type'].value_counts()\n",
        "\n",
        "print(\"Number of bookings made by repeated guests:\", num_bookings_repeated_guests)\n",
        "print(\"Booking preferences of repeated guests:\")\n",
        "print(booking_preferences_repeated_guests)"
      ],
      "metadata": {
        "id": "8-JdaKidWJiW"
      },
      "execution_count": null,
      "outputs": []
    },
    {
      "cell_type": "markdown",
      "source": [
        "What all manipulations have you done and insights you found?"
      ],
      "metadata": {
        "id": "Blq05KaPWPhR"
      }
    },
    {
      "cell_type": "markdown",
      "source": [
        "# **Manipulations**"
      ],
      "metadata": {
        "id": "wiKIF5S1WSrC"
      }
    },
    {
      "cell_type": "markdown",
      "source": [
        "**Conversion of children and agent column to int:**The arrival_date_year column has been converted to datetime format to enable further analysis based on the year of arrival.\n",
        "\n",
        "**Creation of weekend_booking and weekday_booking columns:** New columns weekend_booking and weekday_booking have been created based on the values of stays_in_weekend_nights and stays_in_week_nights. These columns indicate whether a booking includes weekends or weekdays.\n",
        "\n",
        "**creating column total_stay and total_people:**New columns of total_stay and total_people has been added.\n",
        "\n",
        "**Grouping and aggregation**The data has been grouped by arrival_year to calculate the total bookings for weekends and weekdays."
      ],
      "metadata": {
        "id": "LwQ4CSg-WWFN"
      }
    },
    {
      "cell_type": "markdown",
      "source": [
        "# **Insights**\n"
      ],
      "metadata": {
        "id": "OCuIa2_mWhRd"
      }
    },
    {
      "cell_type": "markdown",
      "source": [
        "**Hotel with higher number of bookings:**By analyzing the counts of each hotel (city hotel or resort hotel), we can determine which hotel has a higher number of bookings. This information is valuable for understanding the popularity and demand for each type of hotel.\n",
        "\n",
        "**Cancellation rate for hotel bookings:**The overall cancellation rate can be calculated by analyzing the is_canceled column. This insight helps understand the level of booking cancellations, which can impact revenue and resource planning.\n",
        "\n",
        "**Average lead time for hotel bookings:**Calculating the average lead time provides an understanding of how far in advance guests typically make their bookings. This information can assist in revenue management and resource allocation.\n",
        "\n",
        "**Month or season with the highest number of bookings:** By examining the counts of bookings for each month or season, we can identify the period with the highest demand. This insight aids in revenue forecasting, marketing campaigns, and resource planning.\n",
        "\n",
        "**Average length of stay for hotel guests:** The average length of stay reveals how long guests typically stay at the hotel. This information is crucial for revenue forecasting, capacity planning, and resource management.\n",
        "\n",
        "These insights provide valuable information about booking patterns, cancellation rates, lead times, and guest preferences. They can assist in optimizing revenue, pricing strategies, resource allocation, and overall customer satisfaction in the hotel industry."
      ],
      "metadata": {
        "id": "zCDO47-YWmjE"
      }
    },
    {
      "cell_type": "markdown",
      "source": [
        "# **4. Data Vizualization, Storytelling & Experimenting with charts : Understand the relationships between variables**"
      ],
      "metadata": {
        "id": "GVLmdx31YaqP"
      }
    },
    {
      "cell_type": "code",
      "source": [],
      "metadata": {
        "id": "_nBX71AdheWF"
      },
      "execution_count": null,
      "outputs": []
    },
    {
      "cell_type": "markdown",
      "source": [
        "# **UNIVARIATE**"
      ],
      "metadata": {
        "id": "acsbqJ8qYhte"
      }
    },
    {
      "cell_type": "markdown",
      "source": [
        "#### Chart - 1"
      ],
      "metadata": {
        "id": "0wOQAZs5pc--"
      }
    },
    {
      "cell_type": "markdown",
      "source": [
        "**Q1) Which agent makes most no. of bookings?**"
      ],
      "metadata": {
        "id": "inY05r_iYvnv"
      }
    },
    {
      "cell_type": "code",
      "source": [
        "d1 = pd.DataFrame(df['agent'].value_counts()).reset_index().rename(columns = {'index':'agent','agent':'num_of_bookings'}).sort_values(by = 'num_of_bookings', ascending = False)\n",
        "d1.drop(d1[d1['agent'] == 0].index, inplace = True)            # 0 represents that booking is not made by an agent\n",
        "d1 = d1[:10]                                                   # Selecting top 10 performing agents\n",
        "plt.figure(figsize = (10,5))\n",
        "sns.barplot(x = 'agent', y = 'num_of_bookings', data = d1, order = d1.sort_values('num_of_bookings', ascending = False).agent)"
      ],
      "metadata": {
        "id": "7v_ESjsspbW7"
      },
      "execution_count": null,
      "outputs": []
    },
    {
      "cell_type": "markdown",
      "source": [
        "Agent no. 9 has made most no. of bookings."
      ],
      "metadata": {
        "id": "DOX08wjtY3MQ"
      }
    },
    {
      "cell_type": "markdown",
      "source": [
        "##### 1. Why did you pick the specific chart?"
      ],
      "metadata": {
        "id": "K5QZ13OEpz2H"
      }
    },
    {
      "cell_type": "markdown",
      "source": [
        "The specific chart was picked because bar chart allows for easy comparison between different agents. The length of each bar represents the number of bookings, making it straightforward to compare the booking numbers for different agents.The agents in this case represent categorical data, as they are distinct entities. Bar charts are commonly used to visualize categorical data, where each category is represented by a bar."
      ],
      "metadata": {
        "id": "XESiWehPqBRc"
      }
    },
    {
      "cell_type": "markdown",
      "source": [
        "##### 2. What is/are the insight(s) found from the chart?"
      ],
      "metadata": {
        "id": "lQ7QKXXCp7Bj"
      }
    },
    {
      "cell_type": "markdown",
      "source": [
        "The insights found from the chart are,\n",
        "\n",
        "The bar chart allows you to identify the agents with the highest number of bookings. These agents are likely the most successful in terms of generating bookings for the hotel.\n",
        "\n",
        "The chart can highlight any significant differences in the number of bookings between agents. You can observe if there are a few agents that dominate the bookings, while others have comparatively fewer bookings.\n",
        "\n",
        "The chart can be used to evaluate the performance of different agents. You can compare the number of bookings against predetermined targets or benchmarks to assess each agent's effectiveness."
      ],
      "metadata": {
        "id": "C_j1G7yiqdRP"
      }
    },
    {
      "cell_type": "markdown",
      "source": [
        "##### 3. Will the gained insights help creating a positive business impact?\n",
        "Are there any insights that lead to negative growth? Justify with specific reason."
      ],
      "metadata": {
        "id": "448CDAPjqfQr"
      }
    },
    {
      "cell_type": "markdown",
      "source": [
        "Yes,the gained insights can potentially help create a positive business impact, as they provide valuable information that can be leveraged to optimize business strategies and improve performance.\n",
        "\n",
        "Yes, negative growth in a business can result from various factors. Below are some specific reasons that could lead to negative growth:\n",
        "\n",
        "If a significant number of agents have very low or zero bookings in the chart, this could indicate that a considerable portion of the agent workforce is not contributing to bookings, leading to negative growth for the business.\n",
        "\n",
        "If you have data covering multiple time periods and you observe a declining trend in bookings made by agents, this could be a sign of negative growth. It might be due to changes in market conditions, consumer preferences, or ineffective agent strategies\n",
        "\n"
      ],
      "metadata": {
        "id": "3cspy4FjqxJW"
      }
    },
    {
      "cell_type": "markdown",
      "source": [
        "#### Chart - 2\n"
      ],
      "metadata": {
        "id": "KSlN3yHqYklG"
      }
    },
    {
      "cell_type": "markdown",
      "source": [
        "**Q2) Which room type is in most demand and which room type generates highest adr?**"
      ],
      "metadata": {
        "id": "JPksinqYZNxK"
      }
    },
    {
      "cell_type": "code",
      "source": [
        "# Get the count of each room type\n",
        "room_type_demand = df['reserved_room_type'].value_counts()\n",
        "\n",
        "# Sort room types by demand in descending order\n",
        "room_type_demand = room_type_demand.sort_values(ascending=False)\n",
        "\n",
        "# Set up the figure and axes\n",
        "fig, (ax1, ax2) = plt.subplots(1, 2, figsize=(18, 8))\n",
        "\n",
        "# Bar plot for room type demand\n",
        "sns.barplot(x=room_type_demand.index, y=room_type_demand.values, ax=ax1, palette='viridis')\n",
        "ax1.set_xlabel('Room Type')\n",
        "ax1.set_ylabel('Demand')\n",
        "ax1.set_title('Room Type Demand')\n",
        "\n",
        "# Box plot for ADR distribution by room type\n",
        "sns.boxplot(x=df['assigned_room_type'], y=df['adr'], ax=ax2, palette='Blues', width=0.9)\n",
        "ax2.set_xlabel('Room Type')\n",
        "ax2.set_ylabel('ADR')\n",
        "ax2.set_title('ADR Distribution by Room Type')\n",
        "\n",
        "# Rotate x-axis labels for better visibility\n",
        "for ax in (ax1, ax2):\n",
        "    ax.tick_params(axis='x', rotation=45)\n",
        "\n",
        "# Adjust the layout and display the plot\n",
        "plt.tight_layout()\n",
        "plt.show()"
      ],
      "metadata": {
        "id": "R4YgtaqtYklH"
      },
      "execution_count": null,
      "outputs": []
    },
    {
      "cell_type": "markdown",
      "source": [
        "Most demanded room type is A, but better adr rooms are of type H, G and F and c also."
      ],
      "metadata": {
        "id": "bex70S1fZYtT"
      }
    },
    {
      "cell_type": "markdown",
      "source": [
        "##### 1. Why did you pick the specific chart?"
      ],
      "metadata": {
        "id": "t6dVpIINYklI"
      }
    },
    {
      "cell_type": "markdown",
      "source": [
        "The reason for these charts are;\n",
        "\n",
        " Bar charts are straightforward and easy to understand, making them accessible to a wide range of audiences. The simplicity of the chart allows viewers to quickly grasp the key insights or patterns.\n",
        "\n",
        " Bar charts can have a strong visual impact, especially when there are significant differences or variations between the categories being compared. This can help emphasize important findings or highlight trends in the data.\n",
        "\n",
        "\n",
        "The box plot allows for easy visual comparison of the ADR distributions among different room types. Each box represents the interquartile range (IQR) of the data, providing insights into the spread and variability of ADR for each room type.\n",
        "\n",
        " The box plot also includes whiskers that extend to the minimum and maximum values within a certain range. This allows for the identification of outliers, which can be important in understanding any extreme values or unusual patterns in ADR for specific room types."
      ],
      "metadata": {
        "id": "5aaW0BYyYklI"
      }
    },
    {
      "cell_type": "markdown",
      "source": [
        "##### 2. What is/are the insight(s) found from the chart?"
      ],
      "metadata": {
        "id": "ijmpgYnKYklI"
      }
    },
    {
      "cell_type": "markdown",
      "source": [
        "Most demanded room type is A, but better adr rooms are of type H, G and C also. Hotels should increase the no. of room types A and H to maximise revenue."
      ],
      "metadata": {
        "id": "PSx9atu2YklI"
      }
    },
    {
      "cell_type": "markdown",
      "source": [
        "##### 3. Will the gained insights help creating a positive business impact?\n",
        "Are there any insights that lead to negative growth? Justify with specific reason."
      ],
      "metadata": {
        "id": "-JiQyfWJYklI"
      }
    },
    {
      "cell_type": "markdown",
      "source": [
        "Yes,the gained insights can help creating a positive business impact\n",
        "\n",
        "Understanding the most in-demand room type and the room type with the highest ADR allows the hotel to align pricing and inventory strategies to maximize revenue generation.\n",
        "\n",
        "Meeting the demand for the most in-demand room type can lead to improved customer satisfaction and loyalty. Resource Allocation: With insights on room demand and ADR, the hotel can allocate resources effectively to meet customer needs and optimize operational efficiency.\n",
        "\n",
        "Negative Growth Insight:\n",
        "\n",
        "If the most in-demand room type is limited in availability or if the room type with the highest ADR becomes less desirable, the hotel may face challenges in maintaining growth. To mitigate this, the hotel should continuously monitor demand patterns, diversify its room offerings, and adapt pricing strategies accordingly. To sum up, these insights can have a positive impact on the business by optimizing revenue, enhancing customer satisfaction, and improving resource allocation. However, it is essential to continuously evaluate market dynamics and adapt strategies to avoid potential negative impacts and foster sustainable growth."
      ],
      "metadata": {
        "id": "BcBbebzrYklV"
      }
    },
    {
      "cell_type": "markdown",
      "source": [
        "#### Chart - 3"
      ],
      "metadata": {
        "id": "EM7whBJCYoAo"
      }
    },
    {
      "cell_type": "markdown",
      "source": [
        "**Q3) Which meal type is most preffered meal of customers?**"
      ],
      "metadata": {
        "id": "01sX7PF1Zt23"
      }
    },
    {
      "cell_type": "code",
      "source": [
        "plt.figure( figsize=(10, 8))\n",
        "\n",
        "sns.countplot(x = df['meal'])\n",
        "plt.show()"
      ],
      "metadata": {
        "id": "t6GMdE67YoAp"
      },
      "execution_count": null,
      "outputs": []
    },
    {
      "cell_type": "markdown",
      "source": [
        "Most preferred meal type is BB (Bed and breakfast)."
      ],
      "metadata": {
        "id": "pgeS_ic7Z4dd"
      }
    },
    {
      "cell_type": "markdown",
      "source": [
        "##### 1. Why did you pick the specific chart?"
      ],
      "metadata": {
        "id": "fge-S5ZAYoAp"
      }
    },
    {
      "cell_type": "markdown",
      "source": [
        "The specific chart, a bar chart, was selected for the visualization of the most preferred meals due to its suitability for displaying the frequency or count of categorical data (meal types in this case)."
      ],
      "metadata": {
        "id": "5dBItgRVYoAp"
      }
    },
    {
      "cell_type": "markdown",
      "source": [
        "##### 2. What is/are the insight(s) found from the chart?"
      ],
      "metadata": {
        "id": "85gYPyotYoAp"
      }
    },
    {
      "cell_type": "markdown",
      "source": [
        "The most apparent insight from the chart would be the identification of the meal type with the highest bar, indicating the most preferred meal among the available options.Similarly, the meal type with the lowest bar represents the least preferred option.We saw that meal type BB is most preffered and FB is of least preffered"
      ],
      "metadata": {
        "id": "4jstXR6OYoAp"
      }
    },
    {
      "cell_type": "markdown",
      "source": [
        "##### 3. Will the gained insights help creating a positive business impact?\n",
        "Are there any insights that lead to negative growth? Justify with specific reason."
      ],
      "metadata": {
        "id": "RoGjAbkUYoAp"
      }
    },
    {
      "cell_type": "markdown",
      "source": [
        "Yes,the gained insights will help in creating a positive business impact in following ways:\n",
        "\n",
        "Identifying the most preferred meal type can help the business focus on promoting and optimizing the popular choices. By tailoring the menu to meet customer preferences, the business can increase customer satisfaction and repeat visits.\n",
        "\n",
        "Knowing the meal types that customers prefer the most can guide marketing efforts. Highlighting these popular meals in promotional materials and advertisements can attract more customers and increase sales.\n",
        "\n",
        "Yes there are insights that might lead to negative growth:\n",
        "\n",
        "If the chart shows that certain meal types have very low or no demand, it could indicate that these items are not well-received by customers. Continuously offering unpopular choices may lead to decreased customer satisfaction and lower overall sales.\n",
        "\n",
        "If the chart reveals that all meal types are distributed evenly, it might suggest that the market is saturated with similar offerings. This saturation could lead to increased competition and lower profit margins, impacting growth negatively."
      ],
      "metadata": {
        "id": "zfJ8IqMcYoAp"
      }
    },
    {
      "cell_type": "markdown",
      "source": [
        "# **Hotel wise analysis**"
      ],
      "metadata": {
        "id": "8U5zSNlybAvN"
      }
    },
    {
      "cell_type": "markdown",
      "source": [
        "#### Chart - 4"
      ],
      "metadata": {
        "id": "4Of9eVA-YrdM"
      }
    },
    {
      "cell_type": "markdown",
      "source": [
        "**Q1) What is percentage of bookings in each hotel?**"
      ],
      "metadata": {
        "id": "7TBLT8iMblHw"
      }
    },
    {
      "cell_type": "code",
      "source": [
        "# Assuming you already have the DataFrame 'df' with the required columns, including 'hotel' and 'is_canceled'\n",
        "\n",
        "# Calculate the total number of bookings\n",
        "total_bookings = len(df)\n",
        "\n",
        "# Group by 'hotel' and count the number of bookings for each hotel\n",
        "hotel_bookings = df.groupby('hotel')['is_canceled'].count()\n",
        "\n",
        "# Calculate the percentage of bookings for each hotel\n",
        "percentage_bookings = (hotel_bookings / total_bookings) * 100\n",
        "\n",
        "# Set the size of the plot\n",
        "plt.figure(figsize=(8, 6))\n",
        "\n",
        "# Create the bar chart with different colors\n",
        "colors = ['skyblue', 'lightgreen']  # You can add more colors if you have more hotels\n",
        "percentage_bookings.plot(kind='bar', color=colors, edgecolor='black')\n",
        "\n",
        "# Set the labels and title\n",
        "plt.xlabel('Hotel')\n",
        "plt.ylabel('Percentage of Bookings')\n",
        "plt.title('Percentage of Bookings in Each Hotel')\n",
        "\n",
        "# Show the plot\n",
        "plt.tight_layout()\n",
        "plt.show()"
      ],
      "metadata": {
        "id": "irlUoxc8YrdO"
      },
      "execution_count": null,
      "outputs": []
    },
    {
      "cell_type": "markdown",
      "source": [
        "Around 60% bookings are for City hotel and 40% bookings are for Resort hotel."
      ],
      "metadata": {
        "id": "Snf116a6gANB"
      }
    },
    {
      "cell_type": "markdown",
      "source": [
        "##### 1. Why did you pick the specific chart?"
      ],
      "metadata": {
        "id": "iky9q4vBYrdO"
      }
    },
    {
      "cell_type": "markdown",
      "source": [
        "The bar chart is selected for finding the percentage of booking for each hotel because it is an effective and intuitive way to display and compare the percentage values for different categories (hotels, in this case)."
      ],
      "metadata": {
        "id": "aJRCwT6DYrdO"
      }
    },
    {
      "cell_type": "markdown",
      "source": [
        "##### 2. What is/are the insight(s) found from the chart?"
      ],
      "metadata": {
        "id": "F6T5p64dYrdO"
      }
    },
    {
      "cell_type": "markdown",
      "source": [
        "The bar chart shows the percentage of bookings in each hotel, providing insight into the distribution of bookings between the two hotels. We can see that city hotel has 60 percent bookings and 40 percent bookings are from resort hotel.\n",
        "\n",
        " The hotel with the higher percentage of bookings is the most preferred among the customers. The chart visually highlights the preferred hotel based on the height of the bar."
      ],
      "metadata": {
        "id": "Xx8WAJvtYrdO"
      }
    },
    {
      "cell_type": "markdown",
      "source": [
        "##### 3. Will the gained insights help creating a positive business impact?\n",
        "Are there any insights that lead to negative growth? Justify with specific reason."
      ],
      "metadata": {
        "id": "y-Ehk30pYrdP"
      }
    },
    {
      "cell_type": "markdown",
      "source": [
        "The insights gained from the bar chart representing the percentage of bookings in each hotel can potentially help create a positive business impact like, Identifying the most preferred hotel from the chart can help the business focus its marketing efforts on promoting and further enhancing the offerings of that hotel.\n",
        "\n",
        "\n",
        "The insights that lead to negative growth is thst if the chart shows a significantly lower percentage of bookings for one hotel compared to the other, it might indicate that the less preferred hotel is facing challenges. This could lead to negative growth for that particular hotel and might require further investigation to understand the reasons behind its unpopularity."
      ],
      "metadata": {
        "id": "soQQCtWHLM57"
      }
    },
    {
      "cell_type": "markdown",
      "source": [
        "#### Chart - 5"
      ],
      "metadata": {
        "id": "bamQiAODYuh1"
      }
    },
    {
      "cell_type": "markdown",
      "source": [
        "**Q2) What is preferred stay length in each hotel?**"
      ],
      "metadata": {
        "id": "DdKp5VIo-rRO"
      }
    },
    {
      "cell_type": "code",
      "source": [
        "not_canceled = df[df['is_canceled'] == 0]\n",
        "s1 = not_canceled[not_canceled['total_stay'] < 15]\n",
        "plt.figure(figsize = (10,5))\n",
        "sns.countplot(x = s1['total_stay'], hue = s1['hotel'])\n",
        "plt.show()"
      ],
      "metadata": {
        "id": "TIJwrbroYuh3"
      },
      "execution_count": null,
      "outputs": []
    },
    {
      "cell_type": "markdown",
      "source": [
        "Most common stay length is less than 4 days and generally people prefer City hotel for short stay, but for long stays, Resort Hotel is preferred."
      ],
      "metadata": {
        "id": "Rzamx0-3CjE4"
      }
    },
    {
      "cell_type": "markdown",
      "source": [
        "**Q3) Which hotel has longer waiting time?**"
      ],
      "metadata": {
        "id": "OwVSH4S5CujV"
      }
    },
    {
      "cell_type": "code",
      "source": [
        "# Group by 'hotel' and calculate the average days in waitlist for each hotel\n",
        "hotel_waitlist_days = df.groupby('hotel')['days_in_waiting_list'].mean()\n",
        "\n",
        "# Find the hotel with the highest days in waitlist\n",
        "hotel_with_highest_waitlist_days = hotel_waitlist_days.idxmax()\n",
        "\n",
        "# Set the size of the plot\n",
        "plt.figure(figsize=(8, 6))\n",
        "\n",
        "# Create the bar chart with different colors for each hotel\n",
        "colors = ['blue' if hotel != hotel_with_highest_waitlist_days else 'orange' for hotel in hotel_waitlist_days.index]\n",
        "hotel_waitlist_days.plot(kind='bar', color=colors, edgecolor='black')\n",
        "\n",
        "# Set the labels and title\n",
        "plt.xlabel('Hotel')\n",
        "plt.ylabel('Average Days in Waitlist')\n",
        "plt.title('Average Days in Waitlist for Each Hotel')\n",
        "\n",
        "# Show the plot\n",
        "plt.tight_layout()\n",
        "plt.show()\n"
      ],
      "metadata": {
        "id": "bSiL8sJIC5y7"
      },
      "execution_count": null,
      "outputs": []
    },
    {
      "cell_type": "markdown",
      "source": [
        "City hotel has significantly longer waiting time, hence City Hotel is much busier than Resort Hotel."
      ],
      "metadata": {
        "id": "5hgwsgQpJp1T"
      }
    },
    {
      "cell_type": "markdown",
      "source": [
        "##### 1. Why did you pick the specific chart?"
      ],
      "metadata": {
        "id": "QHF8YVU7Yuh3"
      }
    },
    {
      "cell_type": "markdown",
      "source": [
        "The bar chart was selected for visualizing the preferred stay in length and longer waiting time because of its effectiveness in representing and comparing the average values of these two numerical variables across different hotels.Bar charts were selected for these cases because they provide a clear and easy-to-interpret visualization of numerical data (average stay length and waiting time) across different hotel"
      ],
      "metadata": {
        "id": "dcxuIMRPYuh3"
      }
    },
    {
      "cell_type": "markdown",
      "source": [
        "##### 2. What is/are the insight(s) found from the chart?"
      ],
      "metadata": {
        "id": "GwzvFGzlYuh3"
      }
    },
    {
      "cell_type": "markdown",
      "source": [
        "The insights gained are;\n",
        "\n",
        "Most common stay length is less than 4 days and generally people prefer City hotel for short stay, but for long stays, Resort Hotel is preferred.\n",
        "\n",
        "City hotel has significantly longer waiting time, hence City Hotel is much busier than Resort Hotel."
      ],
      "metadata": {
        "id": "uyqkiB8YYuh3"
      }
    },
    {
      "cell_type": "markdown",
      "source": [
        "##### 3. Will the gained insights help creating a positive business impact?\n",
        "Are there any insights that lead to negative growth? Justify with specific reason."
      ],
      "metadata": {
        "id": "qYpmQ266Yuh3"
      }
    },
    {
      "cell_type": "markdown",
      "source": [
        "The insights gained from the two bar charts have the potential to create a positive business impact by informing strategic decisions and improving operations in the following ways\n",
        "\n",
        "Understanding that most common stay lengths are less than 4 days and City hotels are preferred for short stays, while Resort hotels are preferred for long stays, allows the business to tailor its marketing and service offerings to different customer segments\n",
        "\n",
        "Recognizing that City hotels have significantly longer waiting times indicates higher demand and busier operations. This insight can help hotel management optimize resource allocation, such as staffing levels during peak times, to ensure smooth check-in processes and improved guest experiences."
      ],
      "metadata": {
        "id": "_WtzZ_hCYuh4"
      }
    },
    {
      "cell_type": "markdown",
      "source": [
        "#### Chart - 6"
      ],
      "metadata": {
        "id": "OH-pJp9IphqM"
      }
    },
    {
      "cell_type": "markdown",
      "source": [
        "**Q4)How often do guests change their bookings?**\n"
      ],
      "metadata": {
        "id": "Sx6hw5UYNmjr"
      }
    },
    {
      "cell_type": "code",
      "source": [
        "# Chart - 6 visualization code\n",
        "# Create a histogram of booking changes\n",
        "plt.hist(df['booking_changes'], bins=20, edgecolor='black')\n",
        "\n",
        "# Set x-axis label, y-axis label, and title\n",
        "plt.xlabel('Number of Booking Changes')\n",
        "plt.ylabel('Frequency')\n",
        "plt.title('Frequency of Booking Changes')\n",
        "\n",
        "# Display the histogram\n",
        "plt.show()\n"
      ],
      "metadata": {
        "id": "kuRf4wtuphqN"
      },
      "execution_count": null,
      "outputs": []
    },
    {
      "cell_type": "markdown",
      "source": [
        "Booking changes made once or twice are max."
      ],
      "metadata": {
        "id": "wkvITsAcNzSW"
      }
    },
    {
      "cell_type": "markdown",
      "source": [
        "##### 1. Why did you pick the specific chart?"
      ],
      "metadata": {
        "id": "bbFf2-_FphqN"
      }
    },
    {
      "cell_type": "markdown",
      "source": [
        "The histogram graph is selected to visualize the frequency distribution of a single variable."
      ],
      "metadata": {
        "id": "loh7H2nzphqN"
      }
    },
    {
      "cell_type": "markdown",
      "source": [
        "##### 2. What is/are the insight(s) found from the chart?"
      ],
      "metadata": {
        "id": "_ouA3fa0phqN"
      }
    },
    {
      "cell_type": "markdown",
      "source": [
        "The histogram allows you to observe the distribution of the number of booking changes made we can see that changes made once or twice are more."
      ],
      "metadata": {
        "id": "VECbqPI7phqN"
      }
    },
    {
      "cell_type": "markdown",
      "source": [
        "##### 3. Will the gained insights help creating a positive business impact?\n",
        "Are there any insights that lead to negative growth? Justify with specific reason."
      ],
      "metadata": {
        "id": "Seke61FWphqN"
      }
    },
    {
      "cell_type": "markdown",
      "source": [
        "Yes,the gained insights will help in creating a positive business impact. These insights can be used to understand guest behavior, improve the booking process, or identify areas for further investigation or analysis."
      ],
      "metadata": {
        "id": "neQGX9_jO-Ee"
      }
    },
    {
      "cell_type": "markdown",
      "source": [
        "#### Chart - 7\n"
      ],
      "metadata": {
        "id": "PIIx-8_IphqN"
      }
    },
    {
      "cell_type": "markdown",
      "source": [
        "**Q5) Which hotel has higher bookings cancellation rate.**"
      ],
      "metadata": {
        "id": "ejm8LFj6Pr8T"
      }
    },
    {
      "cell_type": "code",
      "source": [
        "# Selecting and counting number of cancelled bookings for each hotel.\n",
        "cancelled_data = df[df['is_canceled'] == 1]\n",
        "cancel_grp = cancelled_data.groupby('hotel')\n",
        "D1 = pd.DataFrame(cancel_grp.size()).rename(columns = {0:'total_cancelled_bookings'})\n",
        "\n",
        "# Counting total number of bookings for each type of hotel\n",
        "grouped_by_hotel = df.groupby('hotel')\n",
        "total_booking = grouped_by_hotel.size()\n",
        "D2 = pd.DataFrame(total_booking).rename(columns = {0: 'total_bookings'})\n",
        "D3 = pd.concat([D1,D2], axis = 1)\n",
        "\n",
        "# Calculating cancel percentage\n",
        "D3['cancel_%'] = round((D3['total_cancelled_bookings']/D3['total_bookings'])*100,2)\n",
        "D3"
      ],
      "metadata": {
        "id": "AuOjnq4ySXgL"
      },
      "execution_count": null,
      "outputs": []
    },
    {
      "cell_type": "code",
      "source": [
        "plt.figure(figsize = (10,5))\n",
        "sns.barplot(x = D3.index, y = D3['cancel_%'])\n",
        "plt.show()"
      ],
      "metadata": {
        "id": "0CCgPpZ5P_uo"
      },
      "execution_count": null,
      "outputs": []
    },
    {
      "cell_type": "markdown",
      "source": [
        "Almost 30 % of City Hotel bookings got cancelled."
      ],
      "metadata": {
        "id": "kEu0yPxhQJnk"
      }
    },
    {
      "cell_type": "markdown",
      "source": [
        "##### 1. Why did you pick the specific chart?"
      ],
      "metadata": {
        "id": "t27r6nlMphqO"
      }
    },
    {
      "cell_type": "markdown",
      "source": [
        "The bar chart was selected for visualizing the cancellation rate because of its effectiveness in representing and comparing the average values of these two numerical variables across different  hotels.\n"
      ],
      "metadata": {
        "id": "iv6ro40sphqO"
      }
    },
    {
      "cell_type": "markdown",
      "source": [
        "##### 2. What is/are the insight(s) found from the chart?"
      ],
      "metadata": {
        "id": "r2jJGEOYphqO"
      }
    },
    {
      "cell_type": "markdown",
      "source": [
        "The insights found from the chart is that city hotel has higher percentage of cancellations as compared to resort hotel which means resort hotels customer are more loyal\n"
      ],
      "metadata": {
        "id": "Po6ZPi4hphqO"
      }
    },
    {
      "cell_type": "markdown",
      "source": [
        "##### 3. Will the gained insights help creating a positive business impact?\n",
        "Are there any insights that lead to negative growth? Justify with specific reason."
      ],
      "metadata": {
        "id": "b0JNsNcRphqO"
      }
    },
    {
      "cell_type": "markdown",
      "source": [
        "Yes the gained insights will help creating a positive business impact.These insights can guide decision-making processes, marketing strategies, and resource allocation to enhance customer satisfaction and optimize business operations in the hotel industry."
      ],
      "metadata": {
        "id": "xvSq8iUTphqO"
      }
    },
    {
      "cell_type": "markdown",
      "source": [
        "## <b>  Distribution Channel wise Analysis </b>"
      ],
      "metadata": {
        "id": "el7drzUEVCim"
      }
    },
    {
      "cell_type": "markdown",
      "source": [
        "#### Chart - 8"
      ],
      "metadata": {
        "id": "BZR9WyysphqO"
      }
    },
    {
      "cell_type": "markdown",
      "source": [
        "**Q1) Which is the most common channel for booking hotels?**"
      ],
      "metadata": {
        "id": "UAb4ueZ4VI73"
      }
    },
    {
      "cell_type": "code",
      "source": [
        " # Chart - 8 visualization code\n",
        "group_by_dc = df.groupby('distribution_channel')\n",
        "d1 = pd.DataFrame(round((group_by_dc.size()/df.shape[0])*100,2)).reset_index().rename(columns = {0: 'Booking_%'})\n",
        "plt.figure(figsize = (8,8))\n",
        "data = d1['Booking_%']\n",
        "labels = d1['distribution_channel']\n",
        "plt.pie(x=data, autopct=\"%.2f%%\", explode=[0.05]*5, labels=labels, pctdistance=0.5)\n",
        "plt.title(\"Booking % by distribution channels\", fontsize=14);\n",
        "\n"
      ],
      "metadata": {
        "id": "TdPTWpAVphqO"
      },
      "execution_count": null,
      "outputs": []
    },
    {
      "cell_type": "markdown",
      "source": [
        "TA/TO Is the most common channel for booking hotels"
      ],
      "metadata": {
        "id": "hC0R0qp2WV9k"
      }
    },
    {
      "cell_type": "markdown",
      "source": [
        "**Q2) Which channel is mostly used for early booking of hotels?**"
      ],
      "metadata": {
        "id": "Dab8amYQWUZH"
      }
    },
    {
      "cell_type": "code",
      "source": [
        "group_by_dc = df.groupby('distribution_channel')\n",
        "d2 = pd.DataFrame(round(group_by_dc['lead_time'].median(),2)).reset_index().rename(columns = {'lead_time': 'median_lead_time'})\n",
        "plt.figure(figsize = (7,5))\n",
        "sns.barplot(x = d2['distribution_channel'], y = d2['median_lead_time'])\n",
        "plt.show()"
      ],
      "metadata": {
        "id": "wsG23AkaWpMp"
      },
      "execution_count": null,
      "outputs": []
    },
    {
      "cell_type": "markdown",
      "source": [
        "TA/TO is mostly used for planning Hotel visits ahead of time."
      ],
      "metadata": {
        "id": "A4FU_FLmW3lG"
      }
    },
    {
      "cell_type": "markdown",
      "source": [
        "##### 1. Why did you pick the specific chart?"
      ],
      "metadata": {
        "id": "jj7wYXLtphqO"
      }
    },
    {
      "cell_type": "markdown",
      "source": [
        "The pie chart is commonly used to represent the distribution or composition of a categorical variable. It is an effective visualization technique when you want to show the proportions or percentages of different categories as part of a whole. In the context of analyzing the dataset of hotel bookings."
      ],
      "metadata": {
        "id": "Ob8u6rCTphqO"
      }
    },
    {
      "cell_type": "markdown",
      "source": [
        "##### 2. What is/are the insight(s) found from the chart?"
      ],
      "metadata": {
        "id": "eZrbJ2SmphqO"
      }
    },
    {
      "cell_type": "markdown",
      "source": [
        "The insights found from the chart is that TA/TO is mostly used for planning Hotel visits ahead of time. But for sudden visits other mediums are most preferred."
      ],
      "metadata": {
        "id": "mZtgC_hjphqO"
      }
    },
    {
      "cell_type": "markdown",
      "source": [
        "##### 3. Will the gained insights help creating a positive business impact?\n",
        "Are there any insights that lead to negative growth? Justify with specific reason."
      ],
      "metadata": {
        "id": "rFu4xreNphqO"
      }
    },
    {
      "cell_type": "markdown",
      "source": [
        "Yes the gained insights will help creating a positive business impact. Understanding that TA/TO (Travel Agent/Tour Operator) is commonly used for planning hotel visits ahead of time can guide the hotel's marketing efforts. The business can collaborate with travel agents, tour operators, and online travel agencies to increase visibility and attract more customers for advance bookings.\n",
        "\n",
        "Insights Leading to Negative Growth:\n",
        "\n",
        "If the hotel heavily relies on TA/TO bookings and neglects other channels, it may lead to negative growth during periods when travel agent or tour operator bookings decline. Diversifying the booking sources can mitigate this risk."
      ],
      "metadata": {
        "id": "iv522sn3iXIx"
      }
    },
    {
      "cell_type": "markdown",
      "source": [
        "#### Chart - 9"
      ],
      "metadata": {
        "id": "YJ55k-q6phqO"
      }
    },
    {
      "cell_type": "markdown",
      "source": [
        "**Q3) Which distribution channel brings better revenue generating deals for hotels?**"
      ],
      "metadata": {
        "id": "C82T7hREZbw8"
      }
    },
    {
      "cell_type": "code",
      "source": [
        "# Chart - 9 visualization code\n",
        "group_by_dc_hotel = df.groupby(['distribution_channel', 'hotel'])\n",
        "d1 = pd.DataFrame(round((group_by_dc_hotel['adr']).agg(np.mean),2)).reset_index().rename(columns = {'adr': 'avg_adr'})\n",
        "plt.figure(figsize = (7,5))\n",
        "sns.barplot(x = d1['distribution_channel'], y = d1['avg_adr'], hue = d1['hotel'])\n",
        "plt.ylim(40,140)\n",
        "plt.show()\n"
      ],
      "metadata": {
        "id": "B2aS4O1ophqO"
      },
      "execution_count": null,
      "outputs": []
    },
    {
      "cell_type": "markdown",
      "source": [
        "GDS channel brings higher revenue generating deals for City hotel\n",
        "\n",
        "Resort hotel has more revnue generating deals by direct and TA/TO channel"
      ],
      "metadata": {
        "id": "emN94TqjZ9qu"
      }
    },
    {
      "cell_type": "markdown",
      "source": [
        "##### 1. Why did you pick the specific chart?"
      ],
      "metadata": {
        "id": "gCFgpxoyphqP"
      }
    },
    {
      "cell_type": "markdown",
      "source": [
        "The bar chart was selected for visualizing the channel through which more revenue generates because of its effectiveness in representing and comparing the average values of these two numerical variables across different hotels."
      ],
      "metadata": {
        "id": "TVxDimi2phqP"
      }
    },
    {
      "cell_type": "markdown",
      "source": [
        "##### 2. What is/are the insight(s) found from the chart?"
      ],
      "metadata": {
        "id": "OVtJsKN_phqQ"
      }
    },
    {
      "cell_type": "markdown",
      "source": [
        "GDS channel brings higher revenue generating deals for City hotel, in contrast to that most bookings come via TA/TO. City Hotel can work to increase outreach on GDS channels to get more higher revenue generating deals.\n",
        "\n",
        "Resort hotel has more revnue generating deals by direct and TA/TO channel. Resort Hotel need to increase outreach on GDS channel to increase revenue."
      ],
      "metadata": {
        "id": "ngGi97qjphqQ"
      }
    },
    {
      "cell_type": "markdown",
      "source": [
        "##### 3. Will the gained insights help creating a positive business impact?\n",
        "Are there any insights that lead to negative growth? Justify with specific reason."
      ],
      "metadata": {
        "id": "lssrdh5qphqQ"
      }
    },
    {
      "cell_type": "markdown",
      "source": [
        " The insights gained from the analysis can help both City Hotel and Resort Hotel identify and implement targeted strategies for revenue growth and customer satisfaction. By optimizing their presence across various booking channels and tailoring services to meet the needs of different customer segments, both hotels can create a positive business impact, increase revenue, and strengthen their competitive position in the market."
      ],
      "metadata": {
        "id": "tBpY5ekJphqQ"
      }
    },
    {
      "cell_type": "markdown",
      "source": [
        "Let us try to understand what causes the people to cancel the booking."
      ],
      "metadata": {
        "id": "z3tGTwNCbrTs"
      }
    },
    {
      "cell_type": "markdown",
      "source": [
        "#### Chart - 10"
      ],
      "metadata": {
        "id": "U2RJ9gkRphqQ"
      }
    },
    {
      "cell_type": "markdown",
      "source": [
        "**Q4) Which significant distribution channel has highest cancellation percentage?**"
      ],
      "metadata": {
        "id": "j8GUNJNnb6mW"
      }
    },
    {
      "cell_type": "code",
      "source": [
        "d1 = pd.DataFrame((group_by_dc['is_canceled'].sum()/group_by_dc.size())*100).drop(index = 'Undefined').rename(columns = {0: 'Cancel_%'})\n",
        "plt.figure(figsize = (10,5))\n",
        "sns.barplot(x = d1.index, y = d1['Cancel_%'])\n",
        "plt.show()"
      ],
      "metadata": {
        "id": "GM7a4YP4phqQ"
      },
      "execution_count": null,
      "outputs": []
    },
    {
      "cell_type": "markdown",
      "source": [
        "TA/TO has highest booking cancellation %. Therefore, a booking via TA/TO is 30% likely to get cancelled."
      ],
      "metadata": {
        "id": "I8MxR8gIcFs8"
      }
    },
    {
      "cell_type": "markdown",
      "source": [
        "Let us see what causes the cancelation of bookings of rooms by customers\n",
        "\n",
        "One question can arise that may be longer waiting period or longer lead time causes the cancellation of bookings, let us check that."
      ],
      "metadata": {
        "id": "heqQ8xETcL1R"
      }
    },
    {
      "cell_type": "code",
      "source": [
        " # Selecting bookings with non zero waiting time\n",
        "waiting_bookings = df[df['days_in_waiting_list'] !=0]\n",
        "fig, axes = plt.subplots(1, 2, figsize=(18, 8))\n",
        "sns.kdeplot(ax=axes[0],x = 'days_in_waiting_list', hue = 'is_canceled' , data = waiting_bookings)\n",
        "sns.kdeplot(ax = axes[1], x = df['lead_time'], hue = df['is_canceled'])\n",
        "plt.show()"
      ],
      "metadata": {
        "id": "rzp7FvaHcPm4"
      },
      "execution_count": null,
      "outputs": []
    },
    {
      "cell_type": "markdown",
      "source": [
        "We see that most of the bookings that are cancelled have waiting period of less than 150 days but also most of bookings that are not cancelled also have waiting period less than 150 days. Hence this shows that waiting period has no effect on cancellation of bookings.\n",
        "\n",
        "Also, lead time has no affect on cancellation of bookings, as both curves of cancelation and not cncelation are similar for lead time too."
      ],
      "metadata": {
        "id": "da9VVvakdEl4"
      }
    },
    {
      "cell_type": "markdown",
      "source": [
        "Now we will check whether not getting allotted the same room type as demanded is the cause of cancellation fo bookings"
      ],
      "metadata": {
        "id": "GNc6PAJrdMW5"
      }
    },
    {
      "cell_type": "code",
      "source": [
        "def check_room_allot(x):\n",
        "  if x['reserved_room_type'] != x['assigned_room_type']:\n",
        "    return 1\n",
        "  else:\n",
        "    return 0\n",
        "\n",
        "df['same_room_not_alloted'] = df.apply(lambda x : check_room_allot(x), axis = 1)\n",
        "grp_by_canc = df.groupby('is_canceled')\n",
        "\n",
        "D1 = pd.DataFrame((grp_by_canc['same_room_not_alloted'].sum()/grp_by_canc.size())*100).rename(columns = {0: 'same_room_not_alloted_%'})\n",
        "plt.figure(figsize = (10,7))\n",
        "sns.barplot(x = D1.index, y = D1['same_room_not_alloted_%'])\n",
        "plt.show()"
      ],
      "metadata": {
        "id": "Aj5e7c62dTCb"
      },
      "execution_count": null,
      "outputs": []
    },
    {
      "cell_type": "markdown",
      "source": [
        "We see that not getting same room as demanded is not the case of cancellation of rooms. A significant percentage of bookings are not cancelled even after getting different room as demanded.\n",
        "\n"
      ],
      "metadata": {
        "id": "5ucNZbmdeAp7"
      }
    },
    {
      "cell_type": "markdown",
      "source": [
        "Lets see does not getting same room affects the adr."
      ],
      "metadata": {
        "id": "wquPcayVebeJ"
      }
    },
    {
      "cell_type": "code",
      "source": [
        "#  Create a new column to indicate whether the guests got the same room they reserved\n",
        "df['got_same_room'] = (df['reserved_room_type'] == df['assigned_room_type']).astype(int)\n",
        "\n",
        "# Group the data based on whether the guests got the same room or not\n",
        "grouped_data = df.groupby('got_same_room')\n",
        "\n",
        "# Calculate the average ADR for each group\n",
        "average_adr = grouped_data['adr'].mean()\n",
        "\n",
        "#  Visualize the results using a bar chart\n",
        "plt.figure(figsize=(8, 6))\n",
        "average_adr.plot(kind='bar', color='skyblue', edgecolor='black')\n",
        "\n",
        "# Set the labels and title\n",
        "plt.xlabel('Got Same Room')\n",
        "plt.ylabel('Average Daily Rate (ADR)')\n",
        "plt.title('Impact of Getting the Same Room on ADR')\n",
        "\n",
        "# Show the plot\n",
        "plt.tight_layout()\n",
        "plt.show()"
      ],
      "metadata": {
        "id": "xKVVHKm1fTjI"
      },
      "execution_count": null,
      "outputs": []
    },
    {
      "cell_type": "markdown",
      "source": [
        "So not getting same room do affects the adr, people who didn't got same room have paid a little lower adr, except for few exceptions."
      ],
      "metadata": {
        "id": "LzQ9pymAff3O"
      }
    },
    {
      "cell_type": "markdown",
      "source": [
        "##### 1. Why did you pick the specific chart?"
      ],
      "metadata": {
        "id": "1M8mcRywphqQ"
      }
    },
    {
      "cell_type": "markdown",
      "source": [
        "(KDE) plot that compares the distribution of 'days_in_waiting_list' for waiting bookings (bookings with non-zero waiting days) based on their cancellation status ('is_canceled' being canceled or not canceled). The KDE plot displays the probability density function of the waiting days for both canceled and non-canceled bookings."
      ],
      "metadata": {
        "id": "8agQvks0phqQ"
      }
    },
    {
      "cell_type": "markdown",
      "source": [
        "##### 2. What is/are the insight(s) found from the chart?"
      ],
      "metadata": {
        "id": "tgIPom80phqQ"
      }
    },
    {
      "cell_type": "markdown",
      "source": [
        "TA/TO has highest booking cancellation %. Therefore, a booking via TA/TO is 30% likely to get cancelled.\n",
        "\n",
        "We see that most of the bookings that are cancelled have waiting period of less 150 days but also most of bookings that are not cancelled also have waiting period less than 150 days. Hence this shows that waiting period has no effect on cancellation of bookings.\n",
        "\n",
        "Also, lead time has no affect on cancellation of bookings, as both curves of cancelation and not cncelation are similar for lead time too.\n",
        "\n",
        "And from the last chart we see that not getting same room do affects the adr, people who didn't got same room have paid a little lower adr, except for few exceptions."
      ],
      "metadata": {
        "id": "Qp13pnNzphqQ"
      }
    },
    {
      "cell_type": "markdown",
      "source": [
        "##### 3. Will the gained insights help creating a positive business impact?\n",
        "Are there any insights that lead to negative growth? Justify with specific reason."
      ],
      "metadata": {
        "id": "JMzcOPDDphqR"
      }
    },
    {
      "cell_type": "markdown",
      "source": [
        " several potential areas that may lead to negative growth if not addressed appropriately:\n",
        "\n",
        "The high cancellation rate of 30% for bookings via Travel Agent/Tour Operator (TA/TO) may negatively impact revenue and occupancy. Frequent cancellations can lead to lost revenue opportunities and difficulty in managing room inventory effectively.\n",
        "\n",
        "The observation that waiting period (days in waiting list) has no significant effect on the cancellation of bookings may indicate a need to review the hotel's reservation management process. If guests frequently cancel their bookings regardless of the waiting period, it could indicate issues with reservation policies, pricing, or customer satisfaction.\n",
        "\n",
        "\n",
        "\n",
        "\n",
        "\n",
        "\n"
      ],
      "metadata": {
        "id": "R4Ka1PC2phqR"
      }
    },
    {
      "cell_type": "markdown",
      "source": [
        "# **BIVARIATE**"
      ],
      "metadata": {
        "id": "TEwIImT584eY"
      }
    },
    {
      "cell_type": "markdown",
      "source": [
        "# **Time wise analysis**"
      ],
      "metadata": {
        "id": "nYCiydnL9LnR"
      }
    },
    {
      "cell_type": "markdown",
      "source": [
        "#### Chart - 11"
      ],
      "metadata": {
        "id": "x-EpHcCOp1ci"
      }
    },
    {
      "cell_type": "markdown",
      "source": [
        "**Which month has the highest booking and also the revenue?**"
      ],
      "metadata": {
        "id": "O6_9XPk_9fnI"
      }
    },
    {
      "cell_type": "code",
      "source": [
        "#Which are the most busy months?\n",
        "d_month = df['arrival_date_month'].value_counts().reset_index()\n",
        "d_month.columns=['months','Number of guests']\n",
        "d_month\n",
        "months = ['January', 'February', 'March', 'April', 'May', 'June', 'July', 'August', 'September', 'October', 'November', 'December']\n",
        "d_month['months'] = pd.Categorical(d_month['months'], categories=months, ordered=True)\n",
        "d_month.sort_values('months').reset_index()\n",
        "\n",
        "\n",
        "data_resort = df[(df['hotel'] == 'Resort Hotel') & (df['is_canceled'] == 0)]\n",
        "data_city = df[(df['hotel'] == 'City Hotel') & (df['is_canceled'] == 0)]\n",
        "resort_hotel = data_resort.groupby(['arrival_date_month'])['adr'].mean().reset_index()\n",
        "city_hotel=data_city.groupby(['arrival_date_month'])['adr'].mean().reset_index()\n",
        "final_hotel = resort_hotel.merge(city_hotel, on = 'arrival_date_month')\n",
        "final_hotel.columns = ['month', 'price_for_resort', 'price_for_city_hotel']\n",
        "final_hotel\n",
        "\n",
        "resort_guest = data_resort['arrival_date_month'].value_counts().reset_index()\n",
        "resort_guest.columns=['month','no of guests']\n",
        "resort_guest\n",
        "\n",
        "city_guest = data_city['arrival_date_month'].value_counts().reset_index()\n",
        "city_guest.columns=['month','no of guests']\n",
        "city_guest\n",
        "\n",
        "final_guest=resort_guest.merge(city_guest, on = 'month')\n",
        "final_guest.columns=['month','no of guests in resort','no of guest in city hotel']\n",
        "final_guest\n",
        "months = ['January', 'February', 'March', 'April', 'May', 'June', 'July', 'August', 'September', 'October', 'November', 'December']\n",
        "final_guest['month'] = pd.Categorical(final_guest['month'], categories=months, ordered=True)\n",
        "final_guest = final_guest.sort_values('month').reset_index()\n",
        "\n",
        "#Which month get most visitors?\n",
        "sns.lineplot(data=final_guest, x='month', y='no of guests in resort', label='Resort')\n",
        "sns.lineplot(data=final_guest, x='month', y='no of guest in city hotel', label='City Hotel')\n",
        "plt.legend()\n",
        "plt.ylabel('Number of guests')\n",
        "plt.xlabel('Month')\n",
        "plt.xticks(rotation=45)\n",
        "plt.title('Number of Guests by Month')\n",
        "fig = plt.gcf()\n",
        "fig.set_size_inches(12, 8)\n",
        "plt.show()"
      ],
      "metadata": {
        "id": "mAQTIvtqp1cj"
      },
      "execution_count": null,
      "outputs": []
    },
    {
      "cell_type": "markdown",
      "source": [
        "Most number of guest comes in month of August."
      ],
      "metadata": {
        "id": "1SvRsyiV95Ok"
      }
    },
    {
      "cell_type": "markdown",
      "source": [
        "Now lets see which month results in high revenue."
      ],
      "metadata": {
        "id": "lK7X-Cc49-OJ"
      }
    },
    {
      "cell_type": "code",
      "source": [
        "# Set the order of months for x-axis labels\n",
        "months = ['January', 'February', 'March', 'April', 'May', 'June', 'July', 'August', 'September', 'October', 'November', 'December']\n",
        "final_hotel['month'] = pd.Categorical(final_hotel['month'], categories=months, ordered=True)\n",
        "final_hotel = final_hotel.sort_values('month').reset_index()\n",
        "\n",
        "# Plotting the data\n",
        "sns.lineplot(data=final_hotel, x='month', y='price_for_resort', label='Resort')\n",
        "sns.lineplot(data=final_hotel, x='month', y='price_for_city_hotel', label='City Hotel')\n",
        "\n",
        "# Set labels and title\n",
        "plt.ylabel('ADR')\n",
        "plt.xlabel('Month')\n",
        "plt.xticks(rotation=45)\n",
        "plt.title('Month with highest revenue')\n",
        "\n",
        "# Display the legend\n",
        "plt.legend()\n",
        "\n",
        "# Adjust the size of the plot\n",
        "fig = plt.gcf()\n",
        "fig.set_size_inches(12, 8)\n",
        "\n",
        "# Show the plot\n",
        "plt.show()"
      ],
      "metadata": {
        "id": "Kkx9zv9R-CyU"
      },
      "execution_count": null,
      "outputs": []
    },
    {
      "cell_type": "markdown",
      "source": [
        "August has the highest revenue since most bookings are done on august"
      ],
      "metadata": {
        "id": "lFldTDhT-P5W"
      }
    },
    {
      "cell_type": "markdown",
      "source": [
        "##### 1. Why did you pick the specific chart?"
      ],
      "metadata": {
        "id": "X_VqEhTip1ck"
      }
    },
    {
      "cell_type": "markdown",
      "source": [
        "The line chart allows you to observe the trend in ADR for each hotel type over the months. By connecting the data points with lines, it shows the overall direction and pattern of ADR changes. This helps in understanding if there are any increasing or decreasing trends in ADR over time."
      ],
      "metadata": {
        "id": "-vsMzt_np1ck"
      }
    },
    {
      "cell_type": "markdown",
      "source": [
        "##### 2. What is/are the insight(s) found from the chart?"
      ],
      "metadata": {
        "id": "8zGJKyg5p1ck"
      }
    },
    {
      "cell_type": "markdown",
      "source": [
        "Insights found from these chart is that Avg adr rises from beginning of year upto middle of year and reaches peak at August and then lowers to the end of year. But hotels do make some good deals with high adr at end of year also."
      ],
      "metadata": {
        "id": "ZYdMsrqVp1ck"
      }
    },
    {
      "cell_type": "markdown",
      "source": [
        "##### 3. Will the gained insights help creating a positive business impact?\n",
        "Are there any insights that lead to negative growth? Justify with specific reason."
      ],
      "metadata": {
        "id": "PVzmfK_Ep1ck"
      }
    },
    {
      "cell_type": "markdown",
      "source": [
        "The insights gained from the line chart depicting the Average Daily Rate (ADR) trends for the Resort Hotel and City Hotel across different months can indeed help create a positive business impact.The observation that ADR rises from the beginning of the year until the middle and reaches a peak in August suggests that there might be a high demand for hotel stays during these months. Hotels can leverage this insight to implement seasonal pricing strategies, where they can increase room rates during peak demand months to maximize revenue.\n",
        "\n",
        " However, there are also insights that might potentially lead to negative growth.The observation that hotels do make some good deals with high ADR at the end of the year might indicate missed revenue opportunities. If the hotel is not capitalizing on potential demand during the year-end holidays or festive seasons, it could lead to revenue loss."
      ],
      "metadata": {
        "id": "druuKYZpp1ck"
      }
    },
    {
      "cell_type": "markdown",
      "source": [
        "#### Chart - 12"
      ],
      "metadata": {
        "id": "n3dbpmDWp1ck"
      }
    },
    {
      "cell_type": "markdown",
      "source": [
        "\\\\**Lets see does length of stay affects the adr.**\n"
      ],
      "metadata": {
        "id": "bHrhJ_L6b_lX"
      }
    },
    {
      "cell_type": "code",
      "source": [
        "# Chart - 12 visualization code\n",
        "plt.figure(figsize = (12,6))\n",
        "sns.scatterplot(y = 'adr', x = 'total_stay', data = df)\n",
        "plt.show()\n"
      ],
      "metadata": {
        "id": "bwevp1tKp1ck"
      },
      "execution_count": null,
      "outputs": []
    },
    {
      "cell_type": "markdown",
      "source": [
        "We notice that there is an outlier in adr, so we will remove that for better scatter plot"
      ],
      "metadata": {
        "id": "OWcM3KRccfeQ"
      }
    },
    {
      "cell_type": "code",
      "source": [
        "df.drop(df[df['adr'] > 5000].index, inplace = True)"
      ],
      "metadata": {
        "id": "anyovAErcllP"
      },
      "execution_count": null,
      "outputs": []
    },
    {
      "cell_type": "code",
      "source": [
        "plt.figure(figsize = (12,6))\n",
        "sns.scatterplot(y = 'adr', x = 'total_stay', data = df)\n",
        "plt.show()"
      ],
      "metadata": {
        "id": "R0UI7KYqc8yC"
      },
      "execution_count": null,
      "outputs": []
    },
    {
      "cell_type": "markdown",
      "source": [
        "From the scatter plot we can see that as length of tottal_stay increases the adr decreases."
      ],
      "metadata": {
        "id": "aq0dFKH5c7EX"
      }
    },
    {
      "cell_type": "markdown",
      "source": [
        "##### 1. Why did you pick the specific chart?"
      ],
      "metadata": {
        "id": "ylSl6qgtp1ck"
      }
    },
    {
      "cell_type": "markdown",
      "source": [
        "Scatter plots provide insights into the distribution of data points across the plot. You can observe the concentration or dispersion of points, identify clusters or groups, and identify any outliers or unusual patterns.\n"
      ],
      "metadata": {
        "id": "m2xqNkiQp1ck"
      }
    },
    {
      "cell_type": "markdown",
      "source": [
        "##### 2. What is/are the insight(s) found from the chart?"
      ],
      "metadata": {
        "id": "ZWILFDl5p1ck"
      }
    },
    {
      "cell_type": "markdown",
      "source": [
        "From the scatter plot we can see that as length of tottal_stay increases the adr decreases. This means for longer stay, the better deal for customer can be finalised.\n"
      ],
      "metadata": {
        "id": "x-lUsV2mp1ck"
      }
    },
    {
      "cell_type": "markdown",
      "source": [
        "##### 3. Will the gained insights help creating a positive business impact?\n",
        "Are there any insights that lead to negative growth? Justify with specific reason."
      ],
      "metadata": {
        "id": "M7G43BXep1ck"
      }
    },
    {
      "cell_type": "markdown",
      "source": [
        "The insights gained from the scatter plot indicating that as the length of total stay increases, the ADR (Average Daily Rate) decreases can indeed help create a positive business impact. Understanding that ADR decreases as the length of total stay increases can be an opportunity for hotels to attract guests for longer durations. Hotels can offer attractive discounts or incentives for guests who book longer stays, encouraging them to extend their reservations.\n",
        "\n",
        "Insights Leading to Negative Growth:\n",
        "\n",
        "Lowering ADR for longer stays might inadvertently affect short-stay guests. If short-stay guests perceive that they are paying more compared to longer-stay guests, it could lead to dissatisfaction and negative reviews."
      ],
      "metadata": {
        "id": "5wwDJXsLp1cl"
      }
    },
    {
      "cell_type": "markdown",
      "source": [
        "**From where the most guests are coming ?**"
      ],
      "metadata": {
        "id": "h7WEKIlUfuCY"
      }
    },
    {
      "cell_type": "code",
      "source": [
        "grouped_by_country = df.groupby('country')\n",
        "d1 = pd.DataFrame(grouped_by_country.size()).reset_index().rename(columns = {0:'Count'}).sort_values('Count', ascending = False)[:10]\n",
        "sns.barplot(x = d1['country'], y  = d1['Count'])\n",
        "plt.show()"
      ],
      "metadata": {
        "id": "6_qMdhWZfcG7"
      },
      "execution_count": null,
      "outputs": []
    },
    {
      "cell_type": "markdown",
      "source": [
        "Most guest are from Portugal and other Europian countries."
      ],
      "metadata": {
        "id": "uYiqoOkdfosc"
      }
    },
    {
      "cell_type": "markdown",
      "source": [
        "These insights derived from the country distribution map can be used to make informed decisions regarding marketing strategies, customer service enhancements, international market expansion, and overall business planning.\n",
        "\n"
      ],
      "metadata": {
        "id": "1UUcoeQ_f90Z"
      }
    },
    {
      "cell_type": "markdown",
      "source": [
        "# **MULTIVARIATE**"
      ],
      "metadata": {
        "id": "QgfsDqIttXUZ"
      }
    },
    {
      "cell_type": "markdown",
      "source": [
        "#### Chart - 14 - Correlation Heatmap"
      ],
      "metadata": {
        "id": "NC_X3p0fY2L0"
      }
    },
    {
      "cell_type": "code",
      "source": [
        "# Correlation Heatmap visualization code\n",
        "corr_column = df[['lead_time','previous_cancellations','previous_bookings_not_canceled','booking_changes','days_in_waiting_list','adr','required_car_parking_spaces','total_of_special_requests','total_stay','total_people']]\n",
        "\n",
        "corrmat = corr_column.corr()\n",
        "f, ax = plt.subplots(figsize=(12, 7))\n",
        "sns.heatmap(corrmat,annot = True,fmt='.2f', annot_kws={'size': 10},  vmax=.8, square=True);\n",
        "\n"
      ],
      "metadata": {
        "id": "xyC9zolEZNRQ"
      },
      "execution_count": null,
      "outputs": []
    },
    {
      "cell_type": "markdown",
      "source": [
        "Positive values indicate a positive correlation, negative values indicate a negative correlation, and values closer to 1 or -1 indicate a stronger correlation.\n",
        "\n",
        "Total stay length and lead time have slight correlation"
      ],
      "metadata": {
        "id": "p0C0ljMqk1-O"
      }
    },
    {
      "cell_type": "markdown",
      "source": [
        "##### 1. Why did you pick the specific chart?"
      ],
      "metadata": {
        "id": "UV0SzAkaZNRQ"
      }
    },
    {
      "cell_type": "markdown",
      "source": [
        "By visualizing the correlations in a heat map, it becomes easier to compare the strength and direction of multiple correlations simultaneously. We can quickly identify variables that are strongly correlated, weakly correlated, or not correlated at all."
      ],
      "metadata": {
        "id": "DVPuT8LYZNRQ"
      }
    },
    {
      "cell_type": "markdown",
      "source": [
        "##### 2. What is/are the insight(s) found from the chart?"
      ],
      "metadata": {
        "id": "YPEH6qLeZNRQ"
      }
    },
    {
      "cell_type": "markdown",
      "source": [
        "1) Total stay length and lead time have slight correlation. This may means that for longer hotel stays people generally plan little before the actual arrival.\n",
        "\n",
        "2) adr is slightly correlated with total_people, which makes sense as more no. of people means more revenue, therefore more adr."
      ],
      "metadata": {
        "id": "bfSqtnDqZNRR"
      }
    },
    {
      "cell_type": "markdown",
      "source": [
        "#### Chart - 15 - Pair Plot"
      ],
      "metadata": {
        "id": "q29F0dvdveiT"
      }
    },
    {
      "cell_type": "code",
      "source": [
        "columns = ['lead_time', 'arrival_date_month', 'stays_in_weekend_nights', 'stays_in_week_nights']\n",
        "\n",
        "# Subset the data to include only the selected columns\n",
        "data_subset = df[columns]\n",
        "\n",
        "# Create the pair plot\n",
        "sns.pairplot(data_subset)\n",
        "\n",
        "# Title for the plot\n",
        "plt.suptitle('Pair Plot of Lead Time, Arrival Month, Weekend Nights, and Week Nights', y=1.02)\n",
        "\n",
        "# Adjust the layout\n",
        "plt.tight_layout()\n",
        "\n",
        "# Show the plot\n",
        "plt.show()"
      ],
      "metadata": {
        "id": "A5e4z_ooBrIz"
      },
      "execution_count": null,
      "outputs": []
    },
    {
      "cell_type": "markdown",
      "source": [
        "Stays in week nights and weekend nights decreases with the increase in lead time"
      ],
      "metadata": {
        "id": "icCImwUwlgJg"
      }
    },
    {
      "cell_type": "markdown",
      "source": [
        "##### 1. Why did you pick the specific chart?"
      ],
      "metadata": {
        "id": "EXh0U9oCveiU"
      }
    },
    {
      "cell_type": "markdown",
      "source": [
        "The pair plot is selected as a visualization tool because it allows us to examine the relationships between multiple variables in a single plot."
      ],
      "metadata": {
        "id": "eMmPjTByveiU"
      }
    },
    {
      "cell_type": "markdown",
      "source": [
        "##### 2. What is/are the insight(s) found from the chart?"
      ],
      "metadata": {
        "id": "22aHeOlLveiV"
      }
    },
    {
      "cell_type": "markdown",
      "source": [
        "Insights found from the chart is that Stays in week nights and weekend nights decreases with the increase in lead time."
      ],
      "metadata": {
        "id": "uPQ8RGwHveiV"
      }
    },
    {
      "cell_type": "markdown",
      "source": [
        "## **5. Solution to Business Objective**"
      ],
      "metadata": {
        "id": "JcMwzZxoAimU"
      }
    },
    {
      "cell_type": "markdown",
      "source": [
        "#### What do you suggest the client to achieve Business Objective ?\n",
        "Explain Briefly."
      ],
      "metadata": {
        "id": "8G2x9gOozGDZ"
      }
    },
    {
      "cell_type": "markdown",
      "source": [
        "1.Implement dynamic pricing strategies and optimize room rates based on demand and seasonal trends to maximize revenue potential.\n",
        "\n",
        "2.Focus on personalized services, value-added amenities, and exceptional guest interactions to foster loyalty and positive reviews.\n",
        "\n",
        "3.Utilize data-driven marketing campaigns, targeted promotions, and social media engagement to attract new guests and retain existing ones.\n",
        "\n",
        "4.Streamline the reservation process with user-friendly online platforms and ensure efficient handling of booking changes and room assignments.\n",
        "\n",
        "5.Analyze cancellation patterns, offer flexible cancellation policies, and use incentives to reduce cancellations and encourage rebooking.\n",
        "\n",
        "6.Identify loyal and high-value customers, provide exclusive perks, and loyalty programs to reward their patronage.\n",
        "\n",
        "7.Regularly seek guest feedback to identify areas for improvement and respond to guest needs effectively.\n",
        "\n",
        "8.Offer special deals, seasonal packages, and rewards to encourage repeat bookings and foster customer loyalty.\n",
        "\n",
        "9.Continuously monitor market trends, benchmark against competitors, and adapt strategies to maintain a competitive edge in the hospitality industry."
      ],
      "metadata": {
        "id": "ybh56PDIsdV3"
      }
    },
    {
      "cell_type": "markdown",
      "source": [
        "# **Conclusion**"
      ],
      "metadata": {
        "id": "gCX9965dhzqZ"
      }
    },
    {
      "cell_type": "markdown",
      "source": [
        "1.Agent No. 9 has made the most bookings, indicating their significance as a valuable partner for the hotel. Strengthening the relationship with this agent can lead to increased bookings and revenue.\n",
        "\n",
        "2.Room Type A is the most demanded, but Room Types H, G, and C have better ADR. To maximize revenue, the hotel should consider increasing the availability of Room Types A and H while ensuring Room Types H, G, and C maintain their premium offerings.\n",
        "\n",
        "3.The most preferred meal type is Bed and Breakfast (BB), which can guide hotel dining options and pricing strategies.\n",
        "\n",
        "4.60% of bookings are for City Hotel, and 40% for Resort Hotel. This distribution can inform marketing efforts to attract guests to both types of hotels.\n",
        "\n",
        "5.Short stays (less than 4 days) are common, and guests generally prefer City Hotel for such stays. However, for longer stays, Resort Hotel is preferred. Hotels can optimize room availability and promotions accordingly.\n",
        "\n",
        "6.City Hotel has significantly longer waiting times, indicating higher demand and busier operations compared to Resort Hotel. Managing waiting lists effectively can enhance guest experience.\n",
        "\n",
        "7.Most bookings have one or two changes. City Hotel has a higher percentage of cancellations compared to Resort Hotel, suggesting potential areas for improvement in customer retention.\n",
        "\n",
        "8.TA/TO is the most common booking channel, indicating the importance of collaboration with travel agents.\n",
        "GDS channels bring higher revenue for City Hotel, while Resort Hotel generates more revenue through direct bookings and TA/TO channels.\n",
        "\n",
        "9.Waiting period has no significant effect on booking cancellations, indicating the need to optimize the booking and confirmation process.\n",
        "Not getting the same room does not significantly impact cancellations. However, it does affect the ADR, suggesting a focus on room allocation and guest preferences.\n",
        "\n",
        "10.August has the highest number of guests and revenue, presenting opportunities for targeted promotions and maximizing earnings during peak months.\n",
        "\n",
        "11.Most guests come from Portugal and other European countries, suggesting targeted marketing efforts in these regions.\n",
        "\n",
        "12.Total stay length and lead time show a slight correlation, indicating potential adjustments in pricing strategies based on booking lead time."
      ],
      "metadata": {
        "id": "jAO8efGXm4Fp"
      }
    },
    {
      "cell_type": "markdown",
      "source": [
        "### ***Hurrah! You have successfully completed your EDA Capstone Project !!!***"
      ],
      "metadata": {
        "id": "gIfDvo9L0UH2"
      }
    }
  ]
}